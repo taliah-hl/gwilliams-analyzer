{
 "cells": [
  {
   "cell_type": "markdown",
   "metadata": {},
   "source": [
    "# y[:, None]\n",
    "\n",
    "如y 本身是 [1,2,3]\n",
    "\n",
    "\n",
    "y[:, None] 即[[1],[2],[3]]"
   ]
  },
  {
   "cell_type": "markdown",
   "metadata": {},
   "source": [
    "# Part 2"
   ]
  },
  {
   "cell_type": "code",
   "execution_count": null,
   "metadata": {
    "vscode": {
     "languageId": "plaintext"
    }
   },
   "outputs": [],
   "source": [
    "### Part 2 ###\n",
    "### what is y[m.index, None]\n",
    "\n",
    "# Example y array\n",
    "y = np.array([10, 20, 30, 40, 50])\n",
    "\n",
    "# Example meta DataFrame\n",
    "meta = pd.DataFrame({\n",
    "    'label': ['A', 'B', 'A', 'B', 'A']\n",
    "})\n",
    "\n",
    "# Group by 'label'\n",
    "grouped_meta = meta.groupby('label')\n",
    "\n",
    "# Select group 'A'\n",
    "m = grouped_meta.get_group('A')\n",
    "\n",
    "# Indices for group 'A'\n",
    "print(m.index)  # Output: Int64Index([0, 2, 4], dtype='int64')\n",
    "print(\"#############\")\n",
    "\n",
    "print(y[m.index])\n",
    "print(\"#############\")\n",
    "# Select and reshape y\n",
    "selected_y = y[m.index, None]\n",
    "print(selected_y)\n",
    "# Output:\n",
    "# array([[10],\n",
    "#        [30],\n",
    "#        [50]])"
   ]
  },
  {
   "cell_type": "code",
   "execution_count": null,
   "metadata": {
    "vscode": {
     "languageId": "plaintext"
    }
   },
   "outputs": [],
   "source": []
  }
 ],
 "metadata": {
  "language_info": {
   "name": "python"
  }
 },
 "nbformat": 4,
 "nbformat_minor": 2
}
